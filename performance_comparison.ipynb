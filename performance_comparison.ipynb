{
 "cells": [
  {
   "cell_type": "code",
   "execution_count": null,
   "id": "cb578d45-9ff2-4400-8543-8597eb984a96",
   "metadata": {},
   "outputs": [],
   "source": [
    "import pandas as pd\n",
    "import numpy as np \n",
    "import seaborn as sns\n",
    "import matplotlib.pyplot as plt"
   ]
  },
  {
   "cell_type": "code",
   "execution_count": null,
   "id": "a205be21-3cc6-4b1c-9b7b-9d84f9e9b6da",
   "metadata": {},
   "outputs": [],
   "source": [
    "from sklearn.neighbors import KNeighborsClassifier\n",
    "from sklearn.base import clone, BaseEstimator, ClassifierMixin\n",
    "from sklearn.utils.validation import check_X_y, check_is_fitted, check_array\n",
    "from sklearn.utils.multiclass import check_classification_targets\n",
    "from sklearn.neighbors import KNeighborsClassifier\n",
    "import numpy as np\n",
    "\n",
    "class OrdinalClassifier(BaseEstimator, ClassifierMixin):\n",
    "    #https://towardsdatascience.com/simple-trick-to-train-an-ordinal-regression-with-any-classifier-6911183d2a3c\n",
    "    \"\"\"\n",
    "    A classifier that can be trained on a range of classes.\n",
    "    @param classifier: A scikit-learn classifier.\n",
    "    \"\"\"\n",
    "    def __init__(self,clf):\n",
    "        self.clf = clf\n",
    "        self.clfs = {}\n",
    "\n",
    "    def fit(self,X,y, **kwargs):\n",
    "        self.uniques_class = np.sort(np.unique(y))\n",
    "\n",
    "        if self.uniques_class.shape[0] > 2:\n",
    "            for i in range(self.uniques_class.shape[0]-1):\n",
    "                #binary_y = (y > self.uniques_class[1]).astype(np.uint8)\n",
    "\n",
    "                binary_y = (y > self.uniques_class[i]).astype(np.uint8)\n",
    "                clf = clone(self.clf)\n",
    "                clf.fit(X,binary_y, **kwargs)\n",
    "                self.clfs[i] = clf\n",
    "\n",
    "    def predict(self,X):\n",
    "        return np.argmax( self.predict_proba(X), axis=1 )\n",
    "\n",
    "    def predict_proba(self,X):\n",
    "        h = [self.clfs[k].predict_proba(X)[:,1].reshape(-1,1) for k in self.clfs]\n",
    "\n",
    "        p_x_first = 1-h[0]\n",
    "        p_x_last  = h[-1]\n",
    "        p_x_middle= [h[i] - h[i+1] for i in range(len(h) - 1)]\n",
    "        \n",
    "        probs = np.hstack([p_x_first, *p_x_middle, p_x_last])\n",
    "\n",
    "        return probs\n",
    "    \n",
    "    def set_params(**params):\n",
    "        # print(params)\n",
    "        self.clf.set_params(**params)\n",
    "    \n",
    "    \n",
    "from sklearn.neighbors import KNeighborsClassifier\n",
    "from sklearn.base import clone, BaseEstimator, ClassifierMixin\n",
    "from sklearn.utils.validation import check_X_y, check_is_fitted, check_array\n",
    "from sklearn.utils.multiclass import check_classification_targets\n",
    "from sklearn.neighbors import KNeighborsClassifier\n",
    "import numpy as np\n",
    "\n",
    "class OrdinalClassifier(BaseEstimator, ClassifierMixin):\n",
    "    #https://towardsdatascience.com/simple-trick-to-train-an-ordinal-regression-with-any-classifier-6911183d2a3c\n",
    "    \"\"\"\n",
    "    A classifier that can be trained on a range of classes.\n",
    "    @param classifier: A scikit-learn classifier.\n",
    "    \"\"\"\n",
    "    def __init__(self,clf):\n",
    "        self.clf = clf\n",
    "        self.clfs = {}\n",
    "\n",
    "\n",
    "    def fit(self,X,y):\n",
    "            self.uniques_class = np.sort(np.unique(y))\n",
    "            if self.uniques_class.shape[0] > 2:\n",
    "                for i in range(self.uniques_class.shape[0]-1):\n",
    "                    #binary_y = (y > self.uniques_class[1]).astype(np.uint8)\n",
    "\n",
    "                    binary_y = (y > self.uniques_class[i]).astype(np.uint8)\n",
    "                    clf = clone(self.clf)\n",
    "                    clf.fit(X,binary_y)\n",
    "                    self.clfs[i] = clf\n",
    "\n",
    "    def predict(self,X):\n",
    "        return np.argmax( self.predict_proba(X), axis=1 )\n",
    "\n",
    "    def predict_proba(self,X):\n",
    "        clfs_predict = {k:self.clfs[k].predict_proba(X) for k in self.clfs}\n",
    "\n",
    "        predicted = []\n",
    "\n",
    "        for i,y in enumerate(self.uniques_class):\n",
    "            if i == 0:\n",
    "                # V1 = 1 - Pr(y > V1)\n",
    "                predicted.append(1 - clfs_predict[y][:, 1])\n",
    "            elif y in clfs_predict:\n",
    "                #Vi = Pr(y>Vi-1)- Pr(y > Vi)\n",
    "                predicted.append(clfs_predict[y-1][:,1] - clfs_predict[y][:,1])\n",
    "            else:\n",
    "                predicted.append(clfs_predict[y-1][:,1])\n",
    "\n",
    "        return np.vstack(predicted).T"
   ]
  },
  {
   "cell_type": "code",
   "execution_count": 6,
   "id": "13a8de57-5c4a-4583-8666-572a46193adf",
   "metadata": {},
   "outputs": [
    {
     "data": {
      "text/html": [
       "<div>\n",
       "<style scoped>\n",
       "    .dataframe tbody tr th:only-of-type {\n",
       "        vertical-align: middle;\n",
       "    }\n",
       "\n",
       "    .dataframe tbody tr th {\n",
       "        vertical-align: top;\n",
       "    }\n",
       "\n",
       "    .dataframe thead th {\n",
       "        text-align: right;\n",
       "    }\n",
       "</style>\n",
       "<table border=\"1\" class=\"dataframe\">\n",
       "  <thead>\n",
       "    <tr style=\"text-align: right;\">\n",
       "      <th></th>\n",
       "      <th>fixed acidity</th>\n",
       "      <th>volatile acidity</th>\n",
       "      <th>citric acid</th>\n",
       "      <th>residual sugar</th>\n",
       "      <th>chlorides</th>\n",
       "      <th>free sulfur dioxide</th>\n",
       "      <th>total sulfur dioxide</th>\n",
       "      <th>density</th>\n",
       "      <th>pH</th>\n",
       "      <th>sulphates</th>\n",
       "      <th>alcohol</th>\n",
       "      <th>quality</th>\n",
       "    </tr>\n",
       "  </thead>\n",
       "  <tbody>\n",
       "    <tr>\n",
       "      <th>0</th>\n",
       "      <td>8.0</td>\n",
       "      <td>0.500</td>\n",
       "      <td>0.39</td>\n",
       "      <td>2.2</td>\n",
       "      <td>0.073</td>\n",
       "      <td>30.0</td>\n",
       "      <td>39.0</td>\n",
       "      <td>0.99572</td>\n",
       "      <td>3.33</td>\n",
       "      <td>0.77</td>\n",
       "      <td>12.1</td>\n",
       "      <td>6</td>\n",
       "    </tr>\n",
       "    <tr>\n",
       "      <th>1</th>\n",
       "      <td>9.3</td>\n",
       "      <td>0.300</td>\n",
       "      <td>0.73</td>\n",
       "      <td>2.3</td>\n",
       "      <td>0.092</td>\n",
       "      <td>30.0</td>\n",
       "      <td>67.0</td>\n",
       "      <td>0.99854</td>\n",
       "      <td>3.32</td>\n",
       "      <td>0.67</td>\n",
       "      <td>12.8</td>\n",
       "      <td>6</td>\n",
       "    </tr>\n",
       "    <tr>\n",
       "      <th>2</th>\n",
       "      <td>7.1</td>\n",
       "      <td>0.510</td>\n",
       "      <td>0.03</td>\n",
       "      <td>2.1</td>\n",
       "      <td>0.059</td>\n",
       "      <td>3.0</td>\n",
       "      <td>12.0</td>\n",
       "      <td>0.99660</td>\n",
       "      <td>3.52</td>\n",
       "      <td>0.73</td>\n",
       "      <td>11.3</td>\n",
       "      <td>7</td>\n",
       "    </tr>\n",
       "    <tr>\n",
       "      <th>3</th>\n",
       "      <td>8.1</td>\n",
       "      <td>0.870</td>\n",
       "      <td>0.22</td>\n",
       "      <td>2.6</td>\n",
       "      <td>0.084</td>\n",
       "      <td>11.0</td>\n",
       "      <td>65.0</td>\n",
       "      <td>0.99730</td>\n",
       "      <td>3.20</td>\n",
       "      <td>0.53</td>\n",
       "      <td>9.8</td>\n",
       "      <td>5</td>\n",
       "    </tr>\n",
       "    <tr>\n",
       "      <th>4</th>\n",
       "      <td>8.5</td>\n",
       "      <td>0.360</td>\n",
       "      <td>0.30</td>\n",
       "      <td>2.3</td>\n",
       "      <td>0.079</td>\n",
       "      <td>10.0</td>\n",
       "      <td>45.0</td>\n",
       "      <td>0.99444</td>\n",
       "      <td>3.20</td>\n",
       "      <td>1.36</td>\n",
       "      <td>9.5</td>\n",
       "      <td>6</td>\n",
       "    </tr>\n",
       "    <tr>\n",
       "      <th>...</th>\n",
       "      <td>...</td>\n",
       "      <td>...</td>\n",
       "      <td>...</td>\n",
       "      <td>...</td>\n",
       "      <td>...</td>\n",
       "      <td>...</td>\n",
       "      <td>...</td>\n",
       "      <td>...</td>\n",
       "      <td>...</td>\n",
       "      <td>...</td>\n",
       "      <td>...</td>\n",
       "      <td>...</td>\n",
       "    </tr>\n",
       "    <tr>\n",
       "      <th>3194</th>\n",
       "      <td>6.3</td>\n",
       "      <td>0.510</td>\n",
       "      <td>0.13</td>\n",
       "      <td>2.3</td>\n",
       "      <td>0.076</td>\n",
       "      <td>29.0</td>\n",
       "      <td>40.0</td>\n",
       "      <td>0.99574</td>\n",
       "      <td>3.42</td>\n",
       "      <td>0.75</td>\n",
       "      <td>11.0</td>\n",
       "      <td>6</td>\n",
       "    </tr>\n",
       "    <tr>\n",
       "      <th>3195</th>\n",
       "      <td>6.8</td>\n",
       "      <td>0.620</td>\n",
       "      <td>0.08</td>\n",
       "      <td>1.9</td>\n",
       "      <td>0.068</td>\n",
       "      <td>28.0</td>\n",
       "      <td>38.0</td>\n",
       "      <td>0.99651</td>\n",
       "      <td>3.42</td>\n",
       "      <td>0.82</td>\n",
       "      <td>9.5</td>\n",
       "      <td>6</td>\n",
       "    </tr>\n",
       "    <tr>\n",
       "      <th>3196</th>\n",
       "      <td>6.2</td>\n",
       "      <td>0.600</td>\n",
       "      <td>0.08</td>\n",
       "      <td>2.0</td>\n",
       "      <td>0.090</td>\n",
       "      <td>32.0</td>\n",
       "      <td>44.0</td>\n",
       "      <td>0.99490</td>\n",
       "      <td>3.45</td>\n",
       "      <td>0.58</td>\n",
       "      <td>10.5</td>\n",
       "      <td>5</td>\n",
       "    </tr>\n",
       "    <tr>\n",
       "      <th>3197</th>\n",
       "      <td>5.9</td>\n",
       "      <td>0.550</td>\n",
       "      <td>0.10</td>\n",
       "      <td>2.2</td>\n",
       "      <td>0.062</td>\n",
       "      <td>39.0</td>\n",
       "      <td>51.0</td>\n",
       "      <td>0.99512</td>\n",
       "      <td>3.52</td>\n",
       "      <td>0.76</td>\n",
       "      <td>11.2</td>\n",
       "      <td>6</td>\n",
       "    </tr>\n",
       "    <tr>\n",
       "      <th>3198</th>\n",
       "      <td>5.9</td>\n",
       "      <td>0.645</td>\n",
       "      <td>0.12</td>\n",
       "      <td>2.0</td>\n",
       "      <td>0.075</td>\n",
       "      <td>32.0</td>\n",
       "      <td>44.0</td>\n",
       "      <td>0.99547</td>\n",
       "      <td>3.57</td>\n",
       "      <td>0.71</td>\n",
       "      <td>10.2</td>\n",
       "      <td>5</td>\n",
       "    </tr>\n",
       "  </tbody>\n",
       "</table>\n",
       "<p>3199 rows × 12 columns</p>\n",
       "</div>"
      ],
      "text/plain": [
       "      fixed acidity  volatile acidity  citric acid  residual sugar  chlorides  \\\n",
       "0               8.0             0.500         0.39             2.2      0.073   \n",
       "1               9.3             0.300         0.73             2.3      0.092   \n",
       "2               7.1             0.510         0.03             2.1      0.059   \n",
       "3               8.1             0.870         0.22             2.6      0.084   \n",
       "4               8.5             0.360         0.30             2.3      0.079   \n",
       "...             ...               ...          ...             ...        ...   \n",
       "3194            6.3             0.510         0.13             2.3      0.076   \n",
       "3195            6.8             0.620         0.08             1.9      0.068   \n",
       "3196            6.2             0.600         0.08             2.0      0.090   \n",
       "3197            5.9             0.550         0.10             2.2      0.062   \n",
       "3198            5.9             0.645         0.12             2.0      0.075   \n",
       "\n",
       "      free sulfur dioxide  total sulfur dioxide  density    pH  sulphates  \\\n",
       "0                    30.0                  39.0  0.99572  3.33       0.77   \n",
       "1                    30.0                  67.0  0.99854  3.32       0.67   \n",
       "2                     3.0                  12.0  0.99660  3.52       0.73   \n",
       "3                    11.0                  65.0  0.99730  3.20       0.53   \n",
       "4                    10.0                  45.0  0.99444  3.20       1.36   \n",
       "...                   ...                   ...      ...   ...        ...   \n",
       "3194                 29.0                  40.0  0.99574  3.42       0.75   \n",
       "3195                 28.0                  38.0  0.99651  3.42       0.82   \n",
       "3196                 32.0                  44.0  0.99490  3.45       0.58   \n",
       "3197                 39.0                  51.0  0.99512  3.52       0.76   \n",
       "3198                 32.0                  44.0  0.99547  3.57       0.71   \n",
       "\n",
       "      alcohol  quality  \n",
       "0        12.1        6  \n",
       "1        12.8        6  \n",
       "2        11.3        7  \n",
       "3         9.8        5  \n",
       "4         9.5        6  \n",
       "...       ...      ...  \n",
       "3194     11.0        6  \n",
       "3195      9.5        6  \n",
       "3196     10.5        5  \n",
       "3197     11.2        6  \n",
       "3198     10.2        5  \n",
       "\n",
       "[3199 rows x 12 columns]"
      ]
     },
     "execution_count": 6,
     "metadata": {},
     "output_type": "execute_result"
    }
   ],
   "source": [
    "df = pd.read_csv('data/train.csv', index_col='Id')\n",
    "X_compete = pd.read_csv('data/test.csv', index_col='Id')\n",
    "\n",
    "X, y = df.drop(columns=['quality']), df.quality\n",
    "y = y-3\n",
    "df"
   ]
  },
  {
   "cell_type": "markdown",
   "id": "a8dcb20f-fcbb-48cc-a630-eae86fe1f3f0",
   "metadata": {},
   "source": [
    "# New Encoder"
   ]
  },
  {
   "cell_type": "code",
   "execution_count": 31,
   "id": "6c9898a7-f0bc-49b3-a395-9a8f919700ad",
   "metadata": {},
   "outputs": [
    {
     "name": "stderr",
     "output_type": "stream",
     "text": [
      "/home/mamiglia/.local/lib/python3.10/site-packages/sklearn/metrics/_classification.py:1334: UndefinedMetricWarning: Precision is ill-defined and being set to 0.0 in labels with no predicted samples. Use `zero_division` parameter to control this behavior.\n",
      "  _warn_prf(average, modifier, msg_start, len(result))\n"
     ]
    },
    {
     "name": "stdout",
     "output_type": "stream",
     "text": [
      "Cohen = 0.48285419301389243 \n",
      "Recall = 0.5892466395748671 \n",
      "Precision = 0.5552267609453678 \n",
      "Accuracy = 0.5892466395748671\n"
     ]
    },
    {
     "data": {
      "image/png": "[encoded data removed]",
      "text/plain": [
       "<Figure size 640x480 with 2 Axes>"
      ]
     },
     "metadata": {},
     "output_type": "display_data"
    }
   ],
   "source": [
    "from sklearn.linear_model import LogisticRegression\n",
    "\n",
    "new = OrdinalClassifier(LogisticRegression(max_iter=1e4))\n",
    "new.fit(X,y)\n",
    "\n",
    "new_pred=evaluate(X,y,new)"
   ]
  },
  {
   "cell_type": "code",
   "execution_count": 32,
   "id": "a9dd2940-9a74-49b0-9ae5-9762b547d719",
   "metadata": {},
   "outputs": [],
   "source": [
    "# Transfer learned classifiers\n",
    "old = OrdinalClassifierOG(LogisticRegression(max_iter=1e4))\n",
    "old.clf = new.clf\n",
    "old.clfs = new.clfs\n",
    "old.uniques_class = new.uniques_class"
   ]
  },
  {
   "cell_type": "code",
   "execution_count": 33,
   "id": "8a42b46b-a94b-44b3-b906-f0e7fffc4aed",
   "metadata": {},
   "outputs": [
    {
     "name": "stderr",
     "output_type": "stream",
     "text": [
      "/home/mamiglia/.local/lib/python3.10/site-packages/sklearn/metrics/_classification.py:1334: UndefinedMetricWarning: Precision is ill-defined and being set to 0.0 in labels with no predicted samples. Use `zero_division` parameter to control this behavior.\n",
      "  _warn_prf(average, modifier, msg_start, len(result))\n"
     ]
    },
    {
     "name": "stdout",
     "output_type": "stream",
     "text": [
      "Cohen = 0.48285419301389243 \n",
      "Recall = 0.5892466395748671 \n",
      "Precision = 0.5552267609453678 \n",
      "Accuracy = 0.5892466395748671\n"
     ]
    },
    {
     "data": {
      "image/png": "[encoded data removed]",
      "text/plain": [
       "<Figure size 640x480 with 2 Axes>"
      ]
     },
     "metadata": {},
     "output_type": "display_data"
    }
   ],
   "source": [
    "old_pred=evaluate(X,y,old)"
   ]
  },
  {
   "cell_type": "code",
   "execution_count": 34,
   "id": "b590d8c8-f1b8-47a8-adf7-15c26429759c",
   "metadata": {},
   "outputs": [
    {
     "data": {
      "text/plain": [
       "0"
      ]
     },
     "execution_count": 34,
     "metadata": {},
     "output_type": "execute_result"
    }
   ],
   "source": [
    "(new_pred!=old_pred).sum()"
   ]
  },
  {
   "cell_type": "markdown",
   "id": "855953bd-93e5-4a1c-8a2d-5da225615f5d",
   "metadata": {},
   "source": [
    "# Performance"
   ]
  },
  {
   "cell_type": "code",
   "execution_count": 49,
   "id": "33c217e4-d001-4f55-81c9-8b9e1599dd9a",
   "metadata": {},
   "outputs": [],
   "source": [
    "import timeit\n",
    "M = pd.concat([X]*10, ignore_index=True)\n",
    "d = {\n",
    "    'type':[],\n",
    "    'time':[],\n",
    "    'size':[]\n",
    "}"
   ]
  },
  {
   "cell_type": "code",
   "execution_count": 50,
   "id": "2319afe2-50bf-471e-b34a-cf42c5453ce9",
   "metadata": {},
   "outputs": [
    {
     "name": "stdout",
     "output_type": "stream",
     "text": [
      "Epoch 1\n",
      "Epoch 2\n",
      "Epoch 3\n",
      "Epoch 4\n",
      "Epoch 5\n",
      "Epoch 6\n",
      "Epoch 7\n",
      "Epoch 8\n",
      "Epoch 9\n",
      "Epoch 10\n"
     ]
    }
   ],
   "source": [
    "for i in range(1,11):\n",
    "    M = pd.concat([X]*i, ignore_index=True)\n",
    "    t = timeit.timeit('new.predict(M)', globals=globals(), number=100)\n",
    "    d['type'].append('new')\n",
    "    d['time'].append(t)\n",
    "    d['size'].append(i)\n",
    "    print('Epoch', i)"
   ]
  },
  {
   "cell_type": "code",
   "execution_count": 51,
   "id": "6b763c74-96c9-43fe-9f72-999a5d578f33",
   "metadata": {},
   "outputs": [
    {
     "name": "stdout",
     "output_type": "stream",
     "text": [
      "Epoch 1\n",
      "Epoch 2\n",
      "Epoch 3\n",
      "Epoch 4\n",
      "Epoch 5\n",
      "Epoch 6\n",
      "Epoch 7\n",
      "Epoch 8\n",
      "Epoch 9\n",
      "Epoch 10\n"
     ]
    }
   ],
   "source": [
    "for i in range(1,11):\n",
    "    M = pd.concat([X]*i, ignore_index=True)\n",
    "    t = timeit.timeit('old.predict(M)', globals=globals(), number=100)\n",
    "    d['type'].append('old')\n",
    "    d['time'].append(t)\n",
    "    d['size'].append(i)\n",
    "    print('Epoch', i)"
   ]
  },
  {
   "cell_type": "code",
   "execution_count": 54,
   "id": "d3c80230-db88-4c77-a399-d9d11efdc9e2",
   "metadata": {},
   "outputs": [
    {
     "data": {
      "text/plain": [
       "<AxesSubplot: xlabel='size', ylabel='time'>"
      ]
     },
     "execution_count": 54,
     "metadata": {},
     "output_type": "execute_result"
    },
    {
     "data": {
      "image/png": "[encoded data removed]",
      "text/plain": [
       "<Figure size 640x480 with 1 Axes>"
      ]
     },
     "metadata": {},
     "output_type": "display_data"
    }
   ],
   "source": [
    "import seaborn as sns\n",
    "\n",
    "df = pd.DataFrame(d)\n",
    "sns.lineplot(data=df, x='size', y='time', hue='type')"
   ]
  }
 ],
 "metadata": {
  "kernelspec": {
   "display_name": "Python 3 (ipykernel)",
   "language": "python",
   "name": "python3"
  },
  "language_info": {
   "codemirror_mode": {
    "name": "ipython",
    "version": 3
   },
   "file_extension": ".py",
   "mimetype": "text/x-python",
   "name": "python",
   "nbconvert_exporter": "python",
   "pygments_lexer": "ipython3",
   "version": "3.10.8"
  }
 },
 "nbformat": 4,
 "nbformat_minor": 5
}
